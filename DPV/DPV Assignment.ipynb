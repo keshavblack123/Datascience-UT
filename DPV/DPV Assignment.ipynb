{
 "cells": [
  {
   "cell_type": "markdown",
   "metadata": {},
   "source": [
    "# DPV Assignment 2\n"
   ]
  },
  {
   "cell_type": "code",
   "execution_count": 1,
   "metadata": {},
   "outputs": [],
   "source": [
    "import pandas as pd\n",
    "import numpy as np\n",
    "import seaborn as sns\n",
    "sns.set(rc = {'figure.figsize':(12,6)})"
   ]
  },
  {
   "cell_type": "code",
   "execution_count": null,
   "metadata": {},
   "outputs": [],
   "source": [
    "df = pd.read_csv(\"BI_Raw_Data.csv\", encoding = 'ISO- 8859-1', delimiter = \";\")\n",
    "\n",
    "df"
   ]
  },
  {
   "cell_type": "markdown",
   "metadata": {},
   "source": [
    "**Business Questions**\n",
    "\n",
    "1. Who are Mr. Bezos' top-5 most valued customers?\n",
    "2. What are Mr. Bezos' top-5 most important products?"
   ]
  },
  {
   "cell_type": "code",
   "execution_count": null,
   "metadata": {},
   "outputs": [],
   "source": [
    "# Remove all unwanted rows\n",
    "cleaned_df = df.loc[:, ['Order_Price_Total', 'Customer_Name']]\n",
    "\n",
    "# Sort dataset by the Order_Price_Total which indicates the total amount a customer has spent there\n",
    "sorted_df = cleaned_df.sort_values('Order_Price_Total', ascending=False)\n",
    "\n",
    "# Remove multiple records of orders from the same customer\n",
    "dup_dropped_df = sorted_df.drop_duplicates(subset='Customer_Name')\n",
    "\n",
    "# Remove unwanted colums and only keep the Top 5\n",
    "top_5_df = dup_dropped_df[:5]\n",
    "\n",
    "# Display the Top 5\n",
    "display(top_5_df)\n",
    "sns.barplot(data=top_5_df, x='Customer_Name', y='Order_Price_Total').set(title=\"Top 5 Most Valued Customers\")"
   ]
  },
  {
   "cell_type": "code",
   "execution_count": null,
   "metadata": {},
   "outputs": [],
   "source": [
    "# Remove all unwanted rows\n",
    "cleaned_df = df.loc[:, ['Product_Name', 'Product_Order_Price_Total', 'Product_Order_Quantity']]\n",
    "\n",
    "# Group the products together and sum their Order Price Total and Order Quantity\n",
    "summed_df = cleaned_df.groupby('Product_Name').sum()\n",
    "\n",
    "# Sort the products according to their value\n",
    "sorted_df = summed_df.sort_values('Product_Order_Price_Total', ascending=False)\n",
    "\n",
    "# Only display the Top 5\n",
    "top_5_df = sorted_df[:5]\n",
    "\n",
    "display(top_5_df)\n",
    "sns.barplot(data=top_5_df, x=top_5_df.index, y='Product_Order_Price_Total').set(title=\"Top 5 Most Important Products\")"
   ]
  },
  {
   "cell_type": "code",
   "execution_count": null,
   "metadata": {},
   "outputs": [],
   "source": []
  }
 ],
 "metadata": {
  "kernelspec": {
   "display_name": "Python 3",
   "language": "python",
   "name": "python3"
  },
  "language_info": {
   "codemirror_mode": {
    "name": "ipython",
    "version": 3
   },
   "file_extension": ".py",
   "mimetype": "text/x-python",
   "name": "python",
   "nbconvert_exporter": "python",
   "pygments_lexer": "ipython3",
   "version": "3.8.3"
  }
 },
 "nbformat": 4,
 "nbformat_minor": 4
}
